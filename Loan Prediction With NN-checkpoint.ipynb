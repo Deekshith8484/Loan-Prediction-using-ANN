{
 "cells": [
  {
   "cell_type": "code",
   "execution_count": 53,
   "id": "initial_id",
   "metadata": {
    "collapsed": true,
    "ExecuteTime": {
     "end_time": "2023-11-10T23:38:38.884536Z",
     "start_time": "2023-11-10T23:38:38.725981800Z"
    }
   },
   "outputs": [],
   "source": [
    "import pandas as pd\n",
    "import numpy as np\n",
    "import matplotlib.pyplot as plt\n",
    "import seaborn as sns\n",
    "import sklearn\n",
    "from sklearn.model_selection import train_test_split\n",
    "from sklearn.metrics import accuracy_score"
   ]
  },
  {
   "cell_type": "code",
   "execution_count": 54,
   "outputs": [
    {
     "data": {
      "text/plain": "    Loan_ID Gender Married Dependents     Education Self_Employed  \\\n0  LP001002   Male      No          0      Graduate            No   \n1  LP001003   Male     Yes          1      Graduate            No   \n2  LP001005   Male     Yes          0      Graduate           Yes   \n3  LP001006   Male     Yes          0  Not Graduate            No   \n4  LP001008   Male      No          0      Graduate            No   \n\n   ApplicantIncome  CoapplicantIncome  LoanAmount  Loan_Amount_Term  \\\n0             5849                0.0         NaN             360.0   \n1             4583             1508.0       128.0             360.0   \n2             3000                0.0        66.0             360.0   \n3             2583             2358.0       120.0             360.0   \n4             6000                0.0       141.0             360.0   \n\n   Credit_History Property_Area Loan_Status  \n0             1.0         Urban           Y  \n1             1.0         Rural           N  \n2             1.0         Urban           Y  \n3             1.0         Urban           Y  \n4             1.0         Urban           Y  ",
      "text/html": "<div>\n<style scoped>\n    .dataframe tbody tr th:only-of-type {\n        vertical-align: middle;\n    }\n\n    .dataframe tbody tr th {\n        vertical-align: top;\n    }\n\n    .dataframe thead th {\n        text-align: right;\n    }\n</style>\n<table border=\"1\" class=\"dataframe\">\n  <thead>\n    <tr style=\"text-align: right;\">\n      <th></th>\n      <th>Loan_ID</th>\n      <th>Gender</th>\n      <th>Married</th>\n      <th>Dependents</th>\n      <th>Education</th>\n      <th>Self_Employed</th>\n      <th>ApplicantIncome</th>\n      <th>CoapplicantIncome</th>\n      <th>LoanAmount</th>\n      <th>Loan_Amount_Term</th>\n      <th>Credit_History</th>\n      <th>Property_Area</th>\n      <th>Loan_Status</th>\n    </tr>\n  </thead>\n  <tbody>\n    <tr>\n      <th>0</th>\n      <td>LP001002</td>\n      <td>Male</td>\n      <td>No</td>\n      <td>0</td>\n      <td>Graduate</td>\n      <td>No</td>\n      <td>5849</td>\n      <td>0.0</td>\n      <td>NaN</td>\n      <td>360.0</td>\n      <td>1.0</td>\n      <td>Urban</td>\n      <td>Y</td>\n    </tr>\n    <tr>\n      <th>1</th>\n      <td>LP001003</td>\n      <td>Male</td>\n      <td>Yes</td>\n      <td>1</td>\n      <td>Graduate</td>\n      <td>No</td>\n      <td>4583</td>\n      <td>1508.0</td>\n      <td>128.0</td>\n      <td>360.0</td>\n      <td>1.0</td>\n      <td>Rural</td>\n      <td>N</td>\n    </tr>\n    <tr>\n      <th>2</th>\n      <td>LP001005</td>\n      <td>Male</td>\n      <td>Yes</td>\n      <td>0</td>\n      <td>Graduate</td>\n      <td>Yes</td>\n      <td>3000</td>\n      <td>0.0</td>\n      <td>66.0</td>\n      <td>360.0</td>\n      <td>1.0</td>\n      <td>Urban</td>\n      <td>Y</td>\n    </tr>\n    <tr>\n      <th>3</th>\n      <td>LP001006</td>\n      <td>Male</td>\n      <td>Yes</td>\n      <td>0</td>\n      <td>Not Graduate</td>\n      <td>No</td>\n      <td>2583</td>\n      <td>2358.0</td>\n      <td>120.0</td>\n      <td>360.0</td>\n      <td>1.0</td>\n      <td>Urban</td>\n      <td>Y</td>\n    </tr>\n    <tr>\n      <th>4</th>\n      <td>LP001008</td>\n      <td>Male</td>\n      <td>No</td>\n      <td>0</td>\n      <td>Graduate</td>\n      <td>No</td>\n      <td>6000</td>\n      <td>0.0</td>\n      <td>141.0</td>\n      <td>360.0</td>\n      <td>1.0</td>\n      <td>Urban</td>\n      <td>Y</td>\n    </tr>\n  </tbody>\n</table>\n</div>"
     },
     "execution_count": 54,
     "metadata": {},
     "output_type": "execute_result"
    }
   ],
   "source": [
    "#reading the file\n",
    "df=pd.read_csv('D:/NN/Assment/Loan prediction/loan_data.csv')\n",
    "df.head()"
   ],
   "metadata": {
    "collapsed": false,
    "ExecuteTime": {
     "end_time": "2023-11-10T23:38:39.014135700Z",
     "start_time": "2023-11-10T23:38:38.744981700Z"
    }
   },
   "id": "9f3137147cdd8cc2"
  },
  {
   "cell_type": "code",
   "execution_count": 55,
   "outputs": [
    {
     "data": {
      "text/plain": "Loan_ID               0\nGender               13\nMarried               3\nDependents           15\nEducation             0\nSelf_Employed        32\nApplicantIncome       0\nCoapplicantIncome     0\nLoanAmount           22\nLoan_Amount_Term     14\nCredit_History       50\nProperty_Area         0\nLoan_Status           0\ndtype: int64"
     },
     "execution_count": 55,
     "metadata": {},
     "output_type": "execute_result"
    }
   ],
   "source": [
    "df.isnull().sum()"
   ],
   "metadata": {
    "collapsed": false,
    "ExecuteTime": {
     "end_time": "2023-11-10T23:38:39.054160600Z",
     "start_time": "2023-11-10T23:38:38.759982100Z"
    }
   },
   "id": "e87e7e68905d077c"
  },
  {
   "cell_type": "code",
   "execution_count": 56,
   "outputs": [
    {
     "data": {
      "text/plain": "Credit_History\n1.0    475\n0.0     89\nName: count, dtype: int64"
     },
     "execution_count": 56,
     "metadata": {},
     "output_type": "execute_result"
    }
   ],
   "source": [
    "df.Credit_History.value_counts()"
   ],
   "metadata": {
    "collapsed": false,
    "ExecuteTime": {
     "end_time": "2023-11-10T23:38:39.076161300Z",
     "start_time": "2023-11-10T23:38:38.774980500Z"
    }
   },
   "id": "86b30fd22407ba9c"
  },
  {
   "cell_type": "markdown",
   "source": [
    "## Filling the Missing Value "
   ],
   "metadata": {
    "collapsed": false
   },
   "id": "878c7e18c8484f3"
  },
  {
   "cell_type": "code",
   "execution_count": 57,
   "outputs": [],
   "source": [
    "df.Gender.fillna(df['Gender'].mode()[0],inplace=True)\n",
    "df.Married.fillna(df['Married'].mode()[0],inplace=True)\n",
    "df.Dependents.fillna(df['Dependents'].mode()[0],inplace=True)\n",
    "df.Self_Employed.fillna(df['Self_Employed'].mode()[0],inplace=True)\n",
    "df.LoanAmount.fillna(df['LoanAmount'].mean(),inplace=True)\n",
    "df.Loan_Amount_Term.fillna(df['Loan_Amount_Term'].mode()[0],inplace=True)\n",
    "df.Credit_History.fillna(df['Credit_History'].mean(),inplace=True)"
   ],
   "metadata": {
    "collapsed": false,
    "ExecuteTime": {
     "end_time": "2023-11-10T23:38:39.078161100Z",
     "start_time": "2023-11-10T23:38:38.794981Z"
    }
   },
   "id": "710e9c667aca3ff3"
  },
  {
   "cell_type": "code",
   "execution_count": 58,
   "outputs": [
    {
     "data": {
      "text/plain": "Loan_ID              0\nGender               0\nMarried              0\nDependents           0\nEducation            0\nSelf_Employed        0\nApplicantIncome      0\nCoapplicantIncome    0\nLoanAmount           0\nLoan_Amount_Term     0\nCredit_History       0\nProperty_Area        0\nLoan_Status          0\ndtype: int64"
     },
     "execution_count": 58,
     "metadata": {},
     "output_type": "execute_result"
    }
   ],
   "source": [
    "#Checking the missing values \n",
    "df.isnull().sum()"
   ],
   "metadata": {
    "collapsed": false,
    "ExecuteTime": {
     "end_time": "2023-11-10T23:38:39.079161200Z",
     "start_time": "2023-11-10T23:38:38.809984300Z"
    }
   },
   "id": "4247c091089b2f4f"
  },
  {
   "cell_type": "markdown",
   "source": [
    "## Changing the categorical values"
   ],
   "metadata": {
    "collapsed": false
   },
   "id": "68debbdf95f6b80d"
  },
  {
   "cell_type": "code",
   "execution_count": 59,
   "outputs": [
    {
     "data": {
      "text/plain": "    Loan_ID Gender Married Dependents     Education Self_Employed  \\\n0  LP001002   Male      No          0      Graduate            No   \n1  LP001003   Male     Yes          1      Graduate            No   \n2  LP001005   Male     Yes          0      Graduate           Yes   \n3  LP001006   Male     Yes          0  Not Graduate            No   \n4  LP001008   Male      No          0      Graduate            No   \n\n   ApplicantIncome  CoapplicantIncome  LoanAmount  Loan_Amount_Term  \\\n0             5849                0.0  146.412162             360.0   \n1             4583             1508.0  128.000000             360.0   \n2             3000                0.0   66.000000             360.0   \n3             2583             2358.0  120.000000             360.0   \n4             6000                0.0  141.000000             360.0   \n\n   Credit_History Property_Area Loan_Status  \n0             1.0         Urban           Y  \n1             1.0         Rural           N  \n2             1.0         Urban           Y  \n3             1.0         Urban           Y  \n4             1.0         Urban           Y  ",
      "text/html": "<div>\n<style scoped>\n    .dataframe tbody tr th:only-of-type {\n        vertical-align: middle;\n    }\n\n    .dataframe tbody tr th {\n        vertical-align: top;\n    }\n\n    .dataframe thead th {\n        text-align: right;\n    }\n</style>\n<table border=\"1\" class=\"dataframe\">\n  <thead>\n    <tr style=\"text-align: right;\">\n      <th></th>\n      <th>Loan_ID</th>\n      <th>Gender</th>\n      <th>Married</th>\n      <th>Dependents</th>\n      <th>Education</th>\n      <th>Self_Employed</th>\n      <th>ApplicantIncome</th>\n      <th>CoapplicantIncome</th>\n      <th>LoanAmount</th>\n      <th>Loan_Amount_Term</th>\n      <th>Credit_History</th>\n      <th>Property_Area</th>\n      <th>Loan_Status</th>\n    </tr>\n  </thead>\n  <tbody>\n    <tr>\n      <th>0</th>\n      <td>LP001002</td>\n      <td>Male</td>\n      <td>No</td>\n      <td>0</td>\n      <td>Graduate</td>\n      <td>No</td>\n      <td>5849</td>\n      <td>0.0</td>\n      <td>146.412162</td>\n      <td>360.0</td>\n      <td>1.0</td>\n      <td>Urban</td>\n      <td>Y</td>\n    </tr>\n    <tr>\n      <th>1</th>\n      <td>LP001003</td>\n      <td>Male</td>\n      <td>Yes</td>\n      <td>1</td>\n      <td>Graduate</td>\n      <td>No</td>\n      <td>4583</td>\n      <td>1508.0</td>\n      <td>128.000000</td>\n      <td>360.0</td>\n      <td>1.0</td>\n      <td>Rural</td>\n      <td>N</td>\n    </tr>\n    <tr>\n      <th>2</th>\n      <td>LP001005</td>\n      <td>Male</td>\n      <td>Yes</td>\n      <td>0</td>\n      <td>Graduate</td>\n      <td>Yes</td>\n      <td>3000</td>\n      <td>0.0</td>\n      <td>66.000000</td>\n      <td>360.0</td>\n      <td>1.0</td>\n      <td>Urban</td>\n      <td>Y</td>\n    </tr>\n    <tr>\n      <th>3</th>\n      <td>LP001006</td>\n      <td>Male</td>\n      <td>Yes</td>\n      <td>0</td>\n      <td>Not Graduate</td>\n      <td>No</td>\n      <td>2583</td>\n      <td>2358.0</td>\n      <td>120.000000</td>\n      <td>360.0</td>\n      <td>1.0</td>\n      <td>Urban</td>\n      <td>Y</td>\n    </tr>\n    <tr>\n      <th>4</th>\n      <td>LP001008</td>\n      <td>Male</td>\n      <td>No</td>\n      <td>0</td>\n      <td>Graduate</td>\n      <td>No</td>\n      <td>6000</td>\n      <td>0.0</td>\n      <td>141.000000</td>\n      <td>360.0</td>\n      <td>1.0</td>\n      <td>Urban</td>\n      <td>Y</td>\n    </tr>\n  </tbody>\n</table>\n</div>"
     },
     "execution_count": 59,
     "metadata": {},
     "output_type": "execute_result"
    }
   ],
   "source": [
    "df.head()"
   ],
   "metadata": {
    "collapsed": false,
    "ExecuteTime": {
     "end_time": "2023-11-10T23:38:39.080162300Z",
     "start_time": "2023-11-10T23:38:38.824991700Z"
    }
   },
   "id": "121c7ab8c1257a11"
  },
  {
   "cell_type": "code",
   "execution_count": 60,
   "outputs": [
    {
     "data": {
      "text/plain": "Dependents\n0     360\n1     102\n2     101\n3+     51\nName: count, dtype: int64"
     },
     "execution_count": 60,
     "metadata": {},
     "output_type": "execute_result"
    }
   ],
   "source": [
    "df.Dependents.value_counts()"
   ],
   "metadata": {
    "collapsed": false,
    "ExecuteTime": {
     "end_time": "2023-11-10T23:38:39.080162300Z",
     "start_time": "2023-11-10T23:38:38.840507300Z"
    }
   },
   "id": "ffab985a5287911b"
  },
  {
   "cell_type": "code",
   "execution_count": 61,
   "outputs": [],
   "source": [
    "df['Gender']=df['Gender'].map({'Male':0,'Female':1})\n",
    "df['Married']=df['Married'].map({'No':0,'Yes':1})\n",
    "df['Education']=df['Education'].map({'Graduate':0,'Not Graduate':1})\n",
    "df['Self_Employed']=df['Self_Employed'].map({'No':0,'Yes':1})\n",
    "df['Property_Area']=df['Property_Area'].map({'Rural':0,'Semiurban':1,'Urban':2})\n",
    "df['Loan_Status']=df['Loan_Status'].map({'N':0,'Y':1})\n",
    "df['Dependents']=df['Dependents'].map({'0':0,'1':1,'2':2,'3+':3})"
   ],
   "metadata": {
    "collapsed": false,
    "ExecuteTime": {
     "end_time": "2023-11-10T23:38:39.081161700Z",
     "start_time": "2023-11-10T23:38:38.857507300Z"
    }
   },
   "id": "bb267da01872b6f2"
  },
  {
   "cell_type": "code",
   "execution_count": 62,
   "outputs": [
    {
     "data": {
      "text/plain": "      Loan_ID  Gender  Married  Dependents  Education  Self_Employed  \\\n0    LP001002       0        0           0          0              0   \n1    LP001003       0        1           1          0              0   \n2    LP001005       0        1           0          0              1   \n3    LP001006       0        1           0          1              0   \n4    LP001008       0        0           0          0              0   \n..        ...     ...      ...         ...        ...            ...   \n609  LP002978       1        0           0          0              0   \n610  LP002979       0        1           3          0              0   \n611  LP002983       0        1           1          0              0   \n612  LP002984       0        1           2          0              0   \n613  LP002990       1        0           0          0              1   \n\n     ApplicantIncome  CoapplicantIncome  LoanAmount  Loan_Amount_Term  \\\n0               5849                0.0  146.412162             360.0   \n1               4583             1508.0  128.000000             360.0   \n2               3000                0.0   66.000000             360.0   \n3               2583             2358.0  120.000000             360.0   \n4               6000                0.0  141.000000             360.0   \n..               ...                ...         ...               ...   \n609             2900                0.0   71.000000             360.0   \n610             4106                0.0   40.000000             180.0   \n611             8072              240.0  253.000000             360.0   \n612             7583                0.0  187.000000             360.0   \n613             4583                0.0  133.000000             360.0   \n\n     Credit_History  Property_Area  Loan_Status  \n0               1.0              2            1  \n1               1.0              0            0  \n2               1.0              2            1  \n3               1.0              2            1  \n4               1.0              2            1  \n..              ...            ...          ...  \n609             1.0              0            1  \n610             1.0              0            1  \n611             1.0              2            1  \n612             1.0              2            1  \n613             0.0              1            0  \n\n[614 rows x 13 columns]",
      "text/html": "<div>\n<style scoped>\n    .dataframe tbody tr th:only-of-type {\n        vertical-align: middle;\n    }\n\n    .dataframe tbody tr th {\n        vertical-align: top;\n    }\n\n    .dataframe thead th {\n        text-align: right;\n    }\n</style>\n<table border=\"1\" class=\"dataframe\">\n  <thead>\n    <tr style=\"text-align: right;\">\n      <th></th>\n      <th>Loan_ID</th>\n      <th>Gender</th>\n      <th>Married</th>\n      <th>Dependents</th>\n      <th>Education</th>\n      <th>Self_Employed</th>\n      <th>ApplicantIncome</th>\n      <th>CoapplicantIncome</th>\n      <th>LoanAmount</th>\n      <th>Loan_Amount_Term</th>\n      <th>Credit_History</th>\n      <th>Property_Area</th>\n      <th>Loan_Status</th>\n    </tr>\n  </thead>\n  <tbody>\n    <tr>\n      <th>0</th>\n      <td>LP001002</td>\n      <td>0</td>\n      <td>0</td>\n      <td>0</td>\n      <td>0</td>\n      <td>0</td>\n      <td>5849</td>\n      <td>0.0</td>\n      <td>146.412162</td>\n      <td>360.0</td>\n      <td>1.0</td>\n      <td>2</td>\n      <td>1</td>\n    </tr>\n    <tr>\n      <th>1</th>\n      <td>LP001003</td>\n      <td>0</td>\n      <td>1</td>\n      <td>1</td>\n      <td>0</td>\n      <td>0</td>\n      <td>4583</td>\n      <td>1508.0</td>\n      <td>128.000000</td>\n      <td>360.0</td>\n      <td>1.0</td>\n      <td>0</td>\n      <td>0</td>\n    </tr>\n    <tr>\n      <th>2</th>\n      <td>LP001005</td>\n      <td>0</td>\n      <td>1</td>\n      <td>0</td>\n      <td>0</td>\n      <td>1</td>\n      <td>3000</td>\n      <td>0.0</td>\n      <td>66.000000</td>\n      <td>360.0</td>\n      <td>1.0</td>\n      <td>2</td>\n      <td>1</td>\n    </tr>\n    <tr>\n      <th>3</th>\n      <td>LP001006</td>\n      <td>0</td>\n      <td>1</td>\n      <td>0</td>\n      <td>1</td>\n      <td>0</td>\n      <td>2583</td>\n      <td>2358.0</td>\n      <td>120.000000</td>\n      <td>360.0</td>\n      <td>1.0</td>\n      <td>2</td>\n      <td>1</td>\n    </tr>\n    <tr>\n      <th>4</th>\n      <td>LP001008</td>\n      <td>0</td>\n      <td>0</td>\n      <td>0</td>\n      <td>0</td>\n      <td>0</td>\n      <td>6000</td>\n      <td>0.0</td>\n      <td>141.000000</td>\n      <td>360.0</td>\n      <td>1.0</td>\n      <td>2</td>\n      <td>1</td>\n    </tr>\n    <tr>\n      <th>...</th>\n      <td>...</td>\n      <td>...</td>\n      <td>...</td>\n      <td>...</td>\n      <td>...</td>\n      <td>...</td>\n      <td>...</td>\n      <td>...</td>\n      <td>...</td>\n      <td>...</td>\n      <td>...</td>\n      <td>...</td>\n      <td>...</td>\n    </tr>\n    <tr>\n      <th>609</th>\n      <td>LP002978</td>\n      <td>1</td>\n      <td>0</td>\n      <td>0</td>\n      <td>0</td>\n      <td>0</td>\n      <td>2900</td>\n      <td>0.0</td>\n      <td>71.000000</td>\n      <td>360.0</td>\n      <td>1.0</td>\n      <td>0</td>\n      <td>1</td>\n    </tr>\n    <tr>\n      <th>610</th>\n      <td>LP002979</td>\n      <td>0</td>\n      <td>1</td>\n      <td>3</td>\n      <td>0</td>\n      <td>0</td>\n      <td>4106</td>\n      <td>0.0</td>\n      <td>40.000000</td>\n      <td>180.0</td>\n      <td>1.0</td>\n      <td>0</td>\n      <td>1</td>\n    </tr>\n    <tr>\n      <th>611</th>\n      <td>LP002983</td>\n      <td>0</td>\n      <td>1</td>\n      <td>1</td>\n      <td>0</td>\n      <td>0</td>\n      <td>8072</td>\n      <td>240.0</td>\n      <td>253.000000</td>\n      <td>360.0</td>\n      <td>1.0</td>\n      <td>2</td>\n      <td>1</td>\n    </tr>\n    <tr>\n      <th>612</th>\n      <td>LP002984</td>\n      <td>0</td>\n      <td>1</td>\n      <td>2</td>\n      <td>0</td>\n      <td>0</td>\n      <td>7583</td>\n      <td>0.0</td>\n      <td>187.000000</td>\n      <td>360.0</td>\n      <td>1.0</td>\n      <td>2</td>\n      <td>1</td>\n    </tr>\n    <tr>\n      <th>613</th>\n      <td>LP002990</td>\n      <td>1</td>\n      <td>0</td>\n      <td>0</td>\n      <td>0</td>\n      <td>1</td>\n      <td>4583</td>\n      <td>0.0</td>\n      <td>133.000000</td>\n      <td>360.0</td>\n      <td>0.0</td>\n      <td>1</td>\n      <td>0</td>\n    </tr>\n  </tbody>\n</table>\n<p>614 rows × 13 columns</p>\n</div>"
     },
     "execution_count": 62,
     "metadata": {},
     "output_type": "execute_result"
    }
   ],
   "source": [
    "df"
   ],
   "metadata": {
    "collapsed": false,
    "ExecuteTime": {
     "end_time": "2023-11-10T23:38:39.082161500Z",
     "start_time": "2023-11-10T23:38:38.874509Z"
    }
   },
   "id": "7cafee34b25a81e1"
  },
  {
   "cell_type": "code",
   "execution_count": 62,
   "outputs": [],
   "source": [],
   "metadata": {
    "collapsed": false,
    "ExecuteTime": {
     "end_time": "2023-11-10T23:38:39.082161500Z",
     "start_time": "2023-11-10T23:38:38.887509200Z"
    }
   },
   "id": "7816028df6df2ae8"
  },
  {
   "cell_type": "markdown",
   "source": [
    "## Bring all the values from 0 to 1\n",
    "Xnormal=(X-Xmin)/(Xmax-Xmin) "
   ],
   "metadata": {
    "collapsed": false
   },
   "id": "987cdb24d2c1599a"
  },
  {
   "cell_type": "code",
   "execution_count": 63,
   "outputs": [],
   "source": [
    "#making in loop\n",
    "for i in df.columns[1:]:\n",
    "    df[i] = (df[i] - df[i].min()) / (df[i].max() - df[i].min())"
   ],
   "metadata": {
    "collapsed": false,
    "ExecuteTime": {
     "end_time": "2023-11-10T23:38:39.082161500Z",
     "start_time": "2023-11-10T23:38:38.903508400Z"
    }
   },
   "id": "f9550766449df99c"
  },
  {
   "cell_type": "code",
   "execution_count": 64,
   "outputs": [
    {
     "data": {
      "text/plain": "    Loan_ID  Gender  Married  Dependents  Education  Self_Employed  \\\n0  LP001002     0.0      0.0    0.000000        0.0            0.0   \n1  LP001003     0.0      1.0    0.333333        0.0            0.0   \n2  LP001005     0.0      1.0    0.000000        0.0            1.0   \n3  LP001006     0.0      1.0    0.000000        1.0            0.0   \n4  LP001008     0.0      0.0    0.000000        0.0            0.0   \n\n   ApplicantIncome  CoapplicantIncome  LoanAmount  Loan_Amount_Term  \\\n0         0.070489           0.000000    0.198860           0.74359   \n1         0.054830           0.036192    0.172214           0.74359   \n2         0.035250           0.000000    0.082489           0.74359   \n3         0.030093           0.056592    0.160637           0.74359   \n4         0.072356           0.000000    0.191027           0.74359   \n\n   Credit_History  Property_Area  Loan_Status  \n0             1.0            1.0          1.0  \n1             1.0            0.0          0.0  \n2             1.0            1.0          1.0  \n3             1.0            1.0          1.0  \n4             1.0            1.0          1.0  ",
      "text/html": "<div>\n<style scoped>\n    .dataframe tbody tr th:only-of-type {\n        vertical-align: middle;\n    }\n\n    .dataframe tbody tr th {\n        vertical-align: top;\n    }\n\n    .dataframe thead th {\n        text-align: right;\n    }\n</style>\n<table border=\"1\" class=\"dataframe\">\n  <thead>\n    <tr style=\"text-align: right;\">\n      <th></th>\n      <th>Loan_ID</th>\n      <th>Gender</th>\n      <th>Married</th>\n      <th>Dependents</th>\n      <th>Education</th>\n      <th>Self_Employed</th>\n      <th>ApplicantIncome</th>\n      <th>CoapplicantIncome</th>\n      <th>LoanAmount</th>\n      <th>Loan_Amount_Term</th>\n      <th>Credit_History</th>\n      <th>Property_Area</th>\n      <th>Loan_Status</th>\n    </tr>\n  </thead>\n  <tbody>\n    <tr>\n      <th>0</th>\n      <td>LP001002</td>\n      <td>0.0</td>\n      <td>0.0</td>\n      <td>0.000000</td>\n      <td>0.0</td>\n      <td>0.0</td>\n      <td>0.070489</td>\n      <td>0.000000</td>\n      <td>0.198860</td>\n      <td>0.74359</td>\n      <td>1.0</td>\n      <td>1.0</td>\n      <td>1.0</td>\n    </tr>\n    <tr>\n      <th>1</th>\n      <td>LP001003</td>\n      <td>0.0</td>\n      <td>1.0</td>\n      <td>0.333333</td>\n      <td>0.0</td>\n      <td>0.0</td>\n      <td>0.054830</td>\n      <td>0.036192</td>\n      <td>0.172214</td>\n      <td>0.74359</td>\n      <td>1.0</td>\n      <td>0.0</td>\n      <td>0.0</td>\n    </tr>\n    <tr>\n      <th>2</th>\n      <td>LP001005</td>\n      <td>0.0</td>\n      <td>1.0</td>\n      <td>0.000000</td>\n      <td>0.0</td>\n      <td>1.0</td>\n      <td>0.035250</td>\n      <td>0.000000</td>\n      <td>0.082489</td>\n      <td>0.74359</td>\n      <td>1.0</td>\n      <td>1.0</td>\n      <td>1.0</td>\n    </tr>\n    <tr>\n      <th>3</th>\n      <td>LP001006</td>\n      <td>0.0</td>\n      <td>1.0</td>\n      <td>0.000000</td>\n      <td>1.0</td>\n      <td>0.0</td>\n      <td>0.030093</td>\n      <td>0.056592</td>\n      <td>0.160637</td>\n      <td>0.74359</td>\n      <td>1.0</td>\n      <td>1.0</td>\n      <td>1.0</td>\n    </tr>\n    <tr>\n      <th>4</th>\n      <td>LP001008</td>\n      <td>0.0</td>\n      <td>0.0</td>\n      <td>0.000000</td>\n      <td>0.0</td>\n      <td>0.0</td>\n      <td>0.072356</td>\n      <td>0.000000</td>\n      <td>0.191027</td>\n      <td>0.74359</td>\n      <td>1.0</td>\n      <td>1.0</td>\n      <td>1.0</td>\n    </tr>\n  </tbody>\n</table>\n</div>"
     },
     "execution_count": 64,
     "metadata": {},
     "output_type": "execute_result"
    }
   ],
   "source": [
    "df.head()"
   ],
   "metadata": {
    "collapsed": false,
    "ExecuteTime": {
     "end_time": "2023-11-10T23:38:39.082161500Z",
     "start_time": "2023-11-10T23:38:38.919547800Z"
    }
   },
   "id": "dd5bfdf99bfbf557"
  },
  {
   "cell_type": "code",
   "execution_count": 65,
   "outputs": [
    {
     "data": {
      "text/plain": "Loan_ID               object\nGender               float64\nMarried              float64\nDependents           float64\nEducation            float64\nSelf_Employed        float64\nApplicantIncome      float64\nCoapplicantIncome    float64\nLoanAmount           float64\nLoan_Amount_Term     float64\nCredit_History       float64\nProperty_Area        float64\nLoan_Status          float64\ndtype: object"
     },
     "execution_count": 65,
     "metadata": {},
     "output_type": "execute_result"
    }
   ],
   "source": [
    "df.dtypes"
   ],
   "metadata": {
    "collapsed": false,
    "ExecuteTime": {
     "end_time": "2023-11-10T23:38:39.108162300Z",
     "start_time": "2023-11-10T23:38:38.937093900Z"
    }
   },
   "id": "73ad4423005f6fa0"
  },
  {
   "cell_type": "code",
   "execution_count": 80,
   "outputs": [
    {
     "ename": "KeyError",
     "evalue": "\"['Loan_ID'] not found in axis\"",
     "output_type": "error",
     "traceback": [
      "\u001B[1;31m---------------------------------------------------------------------------\u001B[0m",
      "\u001B[1;31mKeyError\u001B[0m                                  Traceback (most recent call last)",
      "Cell \u001B[1;32mIn[80], line 2\u001B[0m\n\u001B[0;32m      1\u001B[0m \u001B[38;5;66;03m#Removing the Loan_ID colum which is not needed\u001B[39;00m\n\u001B[1;32m----> 2\u001B[0m df\u001B[38;5;241m=\u001B[39m\u001B[43mdf\u001B[49m\u001B[38;5;241;43m.\u001B[39;49m\u001B[43mdrop\u001B[49m\u001B[43m(\u001B[49m\u001B[38;5;124;43m'\u001B[39;49m\u001B[38;5;124;43mLoan_ID\u001B[39;49m\u001B[38;5;124;43m'\u001B[39;49m\u001B[43m,\u001B[49m\u001B[43maxis\u001B[49m\u001B[38;5;241;43m=\u001B[39;49m\u001B[38;5;241;43m1\u001B[39;49m\u001B[43m)\u001B[49m\n",
      "File \u001B[1;32m~\\anaconda3\\envs\\tf\\lib\\site-packages\\pandas\\core\\frame.py:5344\u001B[0m, in \u001B[0;36mDataFrame.drop\u001B[1;34m(self, labels, axis, index, columns, level, inplace, errors)\u001B[0m\n\u001B[0;32m   5196\u001B[0m \u001B[38;5;28;01mdef\u001B[39;00m \u001B[38;5;21mdrop\u001B[39m(\n\u001B[0;32m   5197\u001B[0m     \u001B[38;5;28mself\u001B[39m,\n\u001B[0;32m   5198\u001B[0m     labels: IndexLabel \u001B[38;5;241m|\u001B[39m \u001B[38;5;28;01mNone\u001B[39;00m \u001B[38;5;241m=\u001B[39m \u001B[38;5;28;01mNone\u001B[39;00m,\n\u001B[1;32m   (...)\u001B[0m\n\u001B[0;32m   5205\u001B[0m     errors: IgnoreRaise \u001B[38;5;241m=\u001B[39m \u001B[38;5;124m\"\u001B[39m\u001B[38;5;124mraise\u001B[39m\u001B[38;5;124m\"\u001B[39m,\n\u001B[0;32m   5206\u001B[0m ) \u001B[38;5;241m-\u001B[39m\u001B[38;5;241m>\u001B[39m DataFrame \u001B[38;5;241m|\u001B[39m \u001B[38;5;28;01mNone\u001B[39;00m:\n\u001B[0;32m   5207\u001B[0m \u001B[38;5;250m    \u001B[39m\u001B[38;5;124;03m\"\"\"\u001B[39;00m\n\u001B[0;32m   5208\u001B[0m \u001B[38;5;124;03m    Drop specified labels from rows or columns.\u001B[39;00m\n\u001B[0;32m   5209\u001B[0m \n\u001B[1;32m   (...)\u001B[0m\n\u001B[0;32m   5342\u001B[0m \u001B[38;5;124;03m            weight  1.0     0.8\u001B[39;00m\n\u001B[0;32m   5343\u001B[0m \u001B[38;5;124;03m    \"\"\"\u001B[39;00m\n\u001B[1;32m-> 5344\u001B[0m     \u001B[38;5;28;01mreturn\u001B[39;00m \u001B[38;5;28;43msuper\u001B[39;49m\u001B[43m(\u001B[49m\u001B[43m)\u001B[49m\u001B[38;5;241;43m.\u001B[39;49m\u001B[43mdrop\u001B[49m\u001B[43m(\u001B[49m\n\u001B[0;32m   5345\u001B[0m \u001B[43m        \u001B[49m\u001B[43mlabels\u001B[49m\u001B[38;5;241;43m=\u001B[39;49m\u001B[43mlabels\u001B[49m\u001B[43m,\u001B[49m\n\u001B[0;32m   5346\u001B[0m \u001B[43m        \u001B[49m\u001B[43maxis\u001B[49m\u001B[38;5;241;43m=\u001B[39;49m\u001B[43maxis\u001B[49m\u001B[43m,\u001B[49m\n\u001B[0;32m   5347\u001B[0m \u001B[43m        \u001B[49m\u001B[43mindex\u001B[49m\u001B[38;5;241;43m=\u001B[39;49m\u001B[43mindex\u001B[49m\u001B[43m,\u001B[49m\n\u001B[0;32m   5348\u001B[0m \u001B[43m        \u001B[49m\u001B[43mcolumns\u001B[49m\u001B[38;5;241;43m=\u001B[39;49m\u001B[43mcolumns\u001B[49m\u001B[43m,\u001B[49m\n\u001B[0;32m   5349\u001B[0m \u001B[43m        \u001B[49m\u001B[43mlevel\u001B[49m\u001B[38;5;241;43m=\u001B[39;49m\u001B[43mlevel\u001B[49m\u001B[43m,\u001B[49m\n\u001B[0;32m   5350\u001B[0m \u001B[43m        \u001B[49m\u001B[43minplace\u001B[49m\u001B[38;5;241;43m=\u001B[39;49m\u001B[43minplace\u001B[49m\u001B[43m,\u001B[49m\n\u001B[0;32m   5351\u001B[0m \u001B[43m        \u001B[49m\u001B[43merrors\u001B[49m\u001B[38;5;241;43m=\u001B[39;49m\u001B[43merrors\u001B[49m\u001B[43m,\u001B[49m\n\u001B[0;32m   5352\u001B[0m \u001B[43m    \u001B[49m\u001B[43m)\u001B[49m\n",
      "File \u001B[1;32m~\\anaconda3\\envs\\tf\\lib\\site-packages\\pandas\\core\\generic.py:4711\u001B[0m, in \u001B[0;36mNDFrame.drop\u001B[1;34m(self, labels, axis, index, columns, level, inplace, errors)\u001B[0m\n\u001B[0;32m   4709\u001B[0m \u001B[38;5;28;01mfor\u001B[39;00m axis, labels \u001B[38;5;129;01min\u001B[39;00m axes\u001B[38;5;241m.\u001B[39mitems():\n\u001B[0;32m   4710\u001B[0m     \u001B[38;5;28;01mif\u001B[39;00m labels \u001B[38;5;129;01mis\u001B[39;00m \u001B[38;5;129;01mnot\u001B[39;00m \u001B[38;5;28;01mNone\u001B[39;00m:\n\u001B[1;32m-> 4711\u001B[0m         obj \u001B[38;5;241m=\u001B[39m \u001B[43mobj\u001B[49m\u001B[38;5;241;43m.\u001B[39;49m\u001B[43m_drop_axis\u001B[49m\u001B[43m(\u001B[49m\u001B[43mlabels\u001B[49m\u001B[43m,\u001B[49m\u001B[43m \u001B[49m\u001B[43maxis\u001B[49m\u001B[43m,\u001B[49m\u001B[43m \u001B[49m\u001B[43mlevel\u001B[49m\u001B[38;5;241;43m=\u001B[39;49m\u001B[43mlevel\u001B[49m\u001B[43m,\u001B[49m\u001B[43m \u001B[49m\u001B[43merrors\u001B[49m\u001B[38;5;241;43m=\u001B[39;49m\u001B[43merrors\u001B[49m\u001B[43m)\u001B[49m\n\u001B[0;32m   4713\u001B[0m \u001B[38;5;28;01mif\u001B[39;00m inplace:\n\u001B[0;32m   4714\u001B[0m     \u001B[38;5;28mself\u001B[39m\u001B[38;5;241m.\u001B[39m_update_inplace(obj)\n",
      "File \u001B[1;32m~\\anaconda3\\envs\\tf\\lib\\site-packages\\pandas\\core\\generic.py:4753\u001B[0m, in \u001B[0;36mNDFrame._drop_axis\u001B[1;34m(self, labels, axis, level, errors, only_slice)\u001B[0m\n\u001B[0;32m   4751\u001B[0m         new_axis \u001B[38;5;241m=\u001B[39m axis\u001B[38;5;241m.\u001B[39mdrop(labels, level\u001B[38;5;241m=\u001B[39mlevel, errors\u001B[38;5;241m=\u001B[39merrors)\n\u001B[0;32m   4752\u001B[0m     \u001B[38;5;28;01melse\u001B[39;00m:\n\u001B[1;32m-> 4753\u001B[0m         new_axis \u001B[38;5;241m=\u001B[39m \u001B[43maxis\u001B[49m\u001B[38;5;241;43m.\u001B[39;49m\u001B[43mdrop\u001B[49m\u001B[43m(\u001B[49m\u001B[43mlabels\u001B[49m\u001B[43m,\u001B[49m\u001B[43m \u001B[49m\u001B[43merrors\u001B[49m\u001B[38;5;241;43m=\u001B[39;49m\u001B[43merrors\u001B[49m\u001B[43m)\u001B[49m\n\u001B[0;32m   4754\u001B[0m     indexer \u001B[38;5;241m=\u001B[39m axis\u001B[38;5;241m.\u001B[39mget_indexer(new_axis)\n\u001B[0;32m   4756\u001B[0m \u001B[38;5;66;03m# Case for non-unique axis\u001B[39;00m\n\u001B[0;32m   4757\u001B[0m \u001B[38;5;28;01melse\u001B[39;00m:\n",
      "File \u001B[1;32m~\\anaconda3\\envs\\tf\\lib\\site-packages\\pandas\\core\\indexes\\base.py:6992\u001B[0m, in \u001B[0;36mIndex.drop\u001B[1;34m(self, labels, errors)\u001B[0m\n\u001B[0;32m   6990\u001B[0m \u001B[38;5;28;01mif\u001B[39;00m mask\u001B[38;5;241m.\u001B[39many():\n\u001B[0;32m   6991\u001B[0m     \u001B[38;5;28;01mif\u001B[39;00m errors \u001B[38;5;241m!=\u001B[39m \u001B[38;5;124m\"\u001B[39m\u001B[38;5;124mignore\u001B[39m\u001B[38;5;124m\"\u001B[39m:\n\u001B[1;32m-> 6992\u001B[0m         \u001B[38;5;28;01mraise\u001B[39;00m \u001B[38;5;167;01mKeyError\u001B[39;00m(\u001B[38;5;124mf\u001B[39m\u001B[38;5;124m\"\u001B[39m\u001B[38;5;132;01m{\u001B[39;00mlabels[mask]\u001B[38;5;241m.\u001B[39mtolist()\u001B[38;5;132;01m}\u001B[39;00m\u001B[38;5;124m not found in axis\u001B[39m\u001B[38;5;124m\"\u001B[39m)\n\u001B[0;32m   6993\u001B[0m     indexer \u001B[38;5;241m=\u001B[39m indexer[\u001B[38;5;241m~\u001B[39mmask]\n\u001B[0;32m   6994\u001B[0m \u001B[38;5;28;01mreturn\u001B[39;00m \u001B[38;5;28mself\u001B[39m\u001B[38;5;241m.\u001B[39mdelete(indexer)\n",
      "\u001B[1;31mKeyError\u001B[0m: \"['Loan_ID'] not found in axis\""
     ]
    }
   ],
   "source": [
    "#Removing the Loan_ID colum which is not needed\n",
    "df=df.drop('Loan_ID',axis=1)"
   ],
   "metadata": {
    "collapsed": false,
    "ExecuteTime": {
     "end_time": "2023-11-10T23:39:17.790493Z",
     "start_time": "2023-11-10T23:39:17.028404900Z"
    }
   },
   "id": "7371848dece563dd"
  },
  {
   "cell_type": "code",
   "execution_count": 81,
   "outputs": [],
   "source": [
    "# separating the independent and dependent variables\n",
    "\n",
    "# storing all the independent variables as X\n",
    "X = df.drop('Loan_Status', axis=1)\n",
    "\n",
    "# storing the dependent variable as y\n",
    "y = df['Loan_Status']"
   ],
   "metadata": {
    "collapsed": false,
    "ExecuteTime": {
     "end_time": "2023-11-10T23:39:22.942335900Z",
     "start_time": "2023-11-10T23:39:22.926339100Z"
    }
   },
   "id": "124498f22537f908"
  },
  {
   "cell_type": "code",
   "execution_count": 82,
   "outputs": [
    {
     "data": {
      "text/plain": "((614, 11), (614,))"
     },
     "execution_count": 82,
     "metadata": {},
     "output_type": "execute_result"
    }
   ],
   "source": [
    "# shape of independent and dependent variables\n",
    "X.shape, y.shape"
   ],
   "metadata": {
    "collapsed": false,
    "ExecuteTime": {
     "end_time": "2023-11-10T23:39:23.677733300Z",
     "start_time": "2023-11-10T23:39:23.629114400Z"
    }
   },
   "id": "a9972cd5509e79f2"
  },
  {
   "cell_type": "code",
   "execution_count": 83,
   "outputs": [
    {
     "data": {
      "text/plain": "     Gender  Married  Dependents  Education  Self_Employed  ApplicantIncome  \\\n0       0.0      0.0    0.000000        0.0            0.0         0.070489   \n1       0.0      1.0    0.333333        0.0            0.0         0.054830   \n2       0.0      1.0    0.000000        0.0            1.0         0.035250   \n3       0.0      1.0    0.000000        1.0            0.0         0.030093   \n4       0.0      0.0    0.000000        0.0            0.0         0.072356   \n..      ...      ...         ...        ...            ...              ...   \n609     1.0      0.0    0.000000        0.0            0.0         0.034014   \n610     0.0      1.0    1.000000        0.0            0.0         0.048930   \n611     0.0      1.0    0.333333        0.0            0.0         0.097984   \n612     0.0      1.0    0.666667        0.0            0.0         0.091936   \n613     1.0      0.0    0.000000        0.0            1.0         0.054830   \n\n     CoapplicantIncome  LoanAmount  Loan_Amount_Term  Credit_History  \\\n0             0.000000    0.198860          0.743590             1.0   \n1             0.036192    0.172214          0.743590             1.0   \n2             0.000000    0.082489          0.743590             1.0   \n3             0.056592    0.160637          0.743590             1.0   \n4             0.000000    0.191027          0.743590             1.0   \n..                 ...         ...               ...             ...   \n609           0.000000    0.089725          0.743590             1.0   \n610           0.000000    0.044863          0.358974             1.0   \n611           0.005760    0.353111          0.743590             1.0   \n612           0.000000    0.257598          0.743590             1.0   \n613           0.000000    0.179450          0.743590             0.0   \n\n     Property_Area  \n0              1.0  \n1              0.0  \n2              1.0  \n3              1.0  \n4              1.0  \n..             ...  \n609            0.0  \n610            0.0  \n611            1.0  \n612            1.0  \n613            0.5  \n\n[614 rows x 11 columns]",
      "text/html": "<div>\n<style scoped>\n    .dataframe tbody tr th:only-of-type {\n        vertical-align: middle;\n    }\n\n    .dataframe tbody tr th {\n        vertical-align: top;\n    }\n\n    .dataframe thead th {\n        text-align: right;\n    }\n</style>\n<table border=\"1\" class=\"dataframe\">\n  <thead>\n    <tr style=\"text-align: right;\">\n      <th></th>\n      <th>Gender</th>\n      <th>Married</th>\n      <th>Dependents</th>\n      <th>Education</th>\n      <th>Self_Employed</th>\n      <th>ApplicantIncome</th>\n      <th>CoapplicantIncome</th>\n      <th>LoanAmount</th>\n      <th>Loan_Amount_Term</th>\n      <th>Credit_History</th>\n      <th>Property_Area</th>\n    </tr>\n  </thead>\n  <tbody>\n    <tr>\n      <th>0</th>\n      <td>0.0</td>\n      <td>0.0</td>\n      <td>0.000000</td>\n      <td>0.0</td>\n      <td>0.0</td>\n      <td>0.070489</td>\n      <td>0.000000</td>\n      <td>0.198860</td>\n      <td>0.743590</td>\n      <td>1.0</td>\n      <td>1.0</td>\n    </tr>\n    <tr>\n      <th>1</th>\n      <td>0.0</td>\n      <td>1.0</td>\n      <td>0.333333</td>\n      <td>0.0</td>\n      <td>0.0</td>\n      <td>0.054830</td>\n      <td>0.036192</td>\n      <td>0.172214</td>\n      <td>0.743590</td>\n      <td>1.0</td>\n      <td>0.0</td>\n    </tr>\n    <tr>\n      <th>2</th>\n      <td>0.0</td>\n      <td>1.0</td>\n      <td>0.000000</td>\n      <td>0.0</td>\n      <td>1.0</td>\n      <td>0.035250</td>\n      <td>0.000000</td>\n      <td>0.082489</td>\n      <td>0.743590</td>\n      <td>1.0</td>\n      <td>1.0</td>\n    </tr>\n    <tr>\n      <th>3</th>\n      <td>0.0</td>\n      <td>1.0</td>\n      <td>0.000000</td>\n      <td>1.0</td>\n      <td>0.0</td>\n      <td>0.030093</td>\n      <td>0.056592</td>\n      <td>0.160637</td>\n      <td>0.743590</td>\n      <td>1.0</td>\n      <td>1.0</td>\n    </tr>\n    <tr>\n      <th>4</th>\n      <td>0.0</td>\n      <td>0.0</td>\n      <td>0.000000</td>\n      <td>0.0</td>\n      <td>0.0</td>\n      <td>0.072356</td>\n      <td>0.000000</td>\n      <td>0.191027</td>\n      <td>0.743590</td>\n      <td>1.0</td>\n      <td>1.0</td>\n    </tr>\n    <tr>\n      <th>...</th>\n      <td>...</td>\n      <td>...</td>\n      <td>...</td>\n      <td>...</td>\n      <td>...</td>\n      <td>...</td>\n      <td>...</td>\n      <td>...</td>\n      <td>...</td>\n      <td>...</td>\n      <td>...</td>\n    </tr>\n    <tr>\n      <th>609</th>\n      <td>1.0</td>\n      <td>0.0</td>\n      <td>0.000000</td>\n      <td>0.0</td>\n      <td>0.0</td>\n      <td>0.034014</td>\n      <td>0.000000</td>\n      <td>0.089725</td>\n      <td>0.743590</td>\n      <td>1.0</td>\n      <td>0.0</td>\n    </tr>\n    <tr>\n      <th>610</th>\n      <td>0.0</td>\n      <td>1.0</td>\n      <td>1.000000</td>\n      <td>0.0</td>\n      <td>0.0</td>\n      <td>0.048930</td>\n      <td>0.000000</td>\n      <td>0.044863</td>\n      <td>0.358974</td>\n      <td>1.0</td>\n      <td>0.0</td>\n    </tr>\n    <tr>\n      <th>611</th>\n      <td>0.0</td>\n      <td>1.0</td>\n      <td>0.333333</td>\n      <td>0.0</td>\n      <td>0.0</td>\n      <td>0.097984</td>\n      <td>0.005760</td>\n      <td>0.353111</td>\n      <td>0.743590</td>\n      <td>1.0</td>\n      <td>1.0</td>\n    </tr>\n    <tr>\n      <th>612</th>\n      <td>0.0</td>\n      <td>1.0</td>\n      <td>0.666667</td>\n      <td>0.0</td>\n      <td>0.0</td>\n      <td>0.091936</td>\n      <td>0.000000</td>\n      <td>0.257598</td>\n      <td>0.743590</td>\n      <td>1.0</td>\n      <td>1.0</td>\n    </tr>\n    <tr>\n      <th>613</th>\n      <td>1.0</td>\n      <td>0.0</td>\n      <td>0.000000</td>\n      <td>0.0</td>\n      <td>1.0</td>\n      <td>0.054830</td>\n      <td>0.000000</td>\n      <td>0.179450</td>\n      <td>0.743590</td>\n      <td>0.0</td>\n      <td>0.5</td>\n    </tr>\n  </tbody>\n</table>\n<p>614 rows × 11 columns</p>\n</div>"
     },
     "execution_count": 83,
     "metadata": {},
     "output_type": "execute_result"
    }
   ],
   "source": [
    "X"
   ],
   "metadata": {
    "collapsed": false,
    "ExecuteTime": {
     "end_time": "2023-11-10T23:39:28.828701500Z",
     "start_time": "2023-11-10T23:39:28.803669500Z"
    }
   },
   "id": "21561d645c57ba5c"
  },
  {
   "cell_type": "markdown",
   "source": [
    "## Creating training and validation set"
   ],
   "metadata": {
    "collapsed": false
   },
   "id": "770471b5884894e1"
  },
  {
   "cell_type": "code",
   "execution_count": 69,
   "outputs": [],
   "source": [
    "# Creating training and validation set\n",
    "\n",
    "# stratify will make sure that the distribution of classes in train and validation set it similar\n",
    "# random state to regenerate the same train and validation set\n",
    "# test size 0.2 will keep 20% data in validation and remaining 80% in train set\n",
    "\n",
    "X_train,X_test,y_train,y_test = train_test_split(X,y,stratify=df['Loan_Status'],random_state=10,test_size=0.2)"
   ],
   "metadata": {
    "collapsed": false,
    "ExecuteTime": {
     "end_time": "2023-11-10T23:38:39.124217200Z",
     "start_time": "2023-11-10T23:38:39.000093500Z"
    }
   },
   "id": "5e4452d445bac307"
  },
  {
   "cell_type": "code",
   "execution_count": 70,
   "outputs": [
    {
     "data": {
      "text/plain": "(((491, 11), (491,)), ((123, 11), (123,)))"
     },
     "execution_count": 70,
     "metadata": {},
     "output_type": "execute_result"
    }
   ],
   "source": [
    "# shape of training and validation set\n",
    "(X_train.shape,y_train.shape),(X_test.shape,y_test.shape)"
   ],
   "metadata": {
    "collapsed": false,
    "ExecuteTime": {
     "end_time": "2023-11-10T23:38:39.125168Z",
     "start_time": "2023-11-10T23:38:39.015136200Z"
    }
   },
   "id": "cffa134a8157160d"
  },
  {
   "cell_type": "markdown",
   "source": [
    "##  Defining the architecture of the model"
   ],
   "metadata": {
    "collapsed": false
   },
   "id": "4e08e050a9d5be98"
  },
  {
   "cell_type": "code",
   "execution_count": 71,
   "outputs": [
    {
     "name": "stdout",
     "output_type": "stream",
     "text": [
      "2.10.0\n"
     ]
    }
   ],
   "source": [
    "# checking the version of keras\n",
    "import keras\n",
    "print(keras.__version__)"
   ],
   "metadata": {
    "collapsed": false,
    "ExecuteTime": {
     "end_time": "2023-11-10T23:38:39.237728300Z",
     "start_time": "2023-11-10T23:38:39.032160900Z"
    }
   },
   "id": "fc6ed9b186dffcad"
  },
  {
   "cell_type": "code",
   "execution_count": 72,
   "outputs": [
    {
     "name": "stdout",
     "output_type": "stream",
     "text": [
      "2.10.1\n"
     ]
    }
   ],
   "source": [
    "# checking the version of tensorflow\n",
    "import tensorflow as tf\n",
    "print(tf.__version__)"
   ],
   "metadata": {
    "collapsed": false,
    "ExecuteTime": {
     "end_time": "2023-11-10T23:38:39.239728100Z",
     "start_time": "2023-11-10T23:38:39.049162800Z"
    }
   },
   "id": "a718548be17279ee"
  },
  {
   "cell_type": "code",
   "execution_count": 73,
   "outputs": [
    {
     "data": {
      "text/plain": "(491, 11)"
     },
     "execution_count": 73,
     "metadata": {},
     "output_type": "execute_result"
    }
   ],
   "source": [
    "#number of input neurons\n",
    "X_train.shape"
   ],
   "metadata": {
    "collapsed": false,
    "ExecuteTime": {
     "end_time": "2023-11-10T23:38:39.240728Z",
     "start_time": "2023-11-10T23:38:39.063162500Z"
    }
   },
   "id": "bb6941687d21d32e"
  },
  {
   "cell_type": "markdown",
   "source": [
    "## creat a model"
   ],
   "metadata": {
    "collapsed": false
   },
   "id": "9ae5e706c7b9df24"
  },
  {
   "cell_type": "code",
   "execution_count": 74,
   "outputs": [],
   "source": [
    "# importing the sequential model\n",
    "from keras.models import Sequential\n",
    "#importing the layers\n",
    "from keras.layers import InputLayer, Dense \n",
    "#Defining the inputlayer\n",
    "input_neurons = X_train.shape[1]\n",
    "#Since its a hyperparameter model we can pick the hidden layers and hidden neurons on our own\n",
    "#Defining the hidden layer\n",
    "number_of_hidden_layers = 2\n",
    "neuron_hidden_layer_1 = 10\n",
    "neuron_hidden_layer_2 = 5\n",
    "#Since Loan Prediction model is aq binary classification so we define the output layer =1\n",
    "output_neurons = 1"
   ],
   "metadata": {
    "collapsed": false,
    "ExecuteTime": {
     "end_time": "2023-11-10T23:38:39.285725100Z",
     "start_time": "2023-11-10T23:38:39.080162300Z"
    }
   },
   "id": "e45184e9a90adf71"
  },
  {
   "cell_type": "markdown",
   "source": [
    "## Defining the model"
   ],
   "metadata": {
    "collapsed": false
   },
   "id": "9e9ed957a987a896"
  },
  {
   "cell_type": "code",
   "execution_count": 75,
   "outputs": [],
   "source": [
    "# for now I have picked relu as an activation function for hidden layers, you can change it as well\n",
    "# since it is a binary classification problem, I have used sigmoid activation function in the final layer\n",
    "#Activating the hidden layers\n",
    "model = Sequential()\n",
    "model.add(InputLayer(input_shape=(input_neurons,)))\n",
    "model.add(Dense(units=neuron_hidden_layer_1, activation='relu'))\n",
    "model.add(Dense(units=neuron_hidden_layer_2, activation='relu'))\n",
    "model.add(Dense(units=output_neurons, activation='sigmoid'))"
   ],
   "metadata": {
    "collapsed": false,
    "ExecuteTime": {
     "end_time": "2023-11-10T23:38:39.317735600Z",
     "start_time": "2023-11-10T23:38:39.095161700Z"
    }
   },
   "id": "60720e906093166e"
  },
  {
   "cell_type": "code",
   "execution_count": 76,
   "outputs": [
    {
     "name": "stdout",
     "output_type": "stream",
     "text": [
      "Model: \"sequential_2\"\n",
      "_________________________________________________________________\n",
      " Layer (type)                Output Shape              Param #   \n",
      "=================================================================\n",
      " dense_6 (Dense)             (None, 10)                120       \n",
      "                                                                 \n",
      " dense_7 (Dense)             (None, 5)                 55        \n",
      "                                                                 \n",
      " dense_8 (Dense)             (None, 1)                 6         \n",
      "                                                                 \n",
      "=================================================================\n",
      "Total params: 181\n",
      "Trainable params: 181\n",
      "Non-trainable params: 0\n",
      "_________________________________________________________________\n"
     ]
    }
   ],
   "source": [
    "#Summary of the model\n",
    "model.summary()"
   ],
   "metadata": {
    "collapsed": false,
    "ExecuteTime": {
     "end_time": "2023-11-10T23:38:39.317735600Z",
     "start_time": "2023-11-10T23:38:39.128202600Z"
    }
   },
   "id": "f508ade60cf78393"
  },
  {
   "cell_type": "raw",
   "source": [
    "1.the number of parameter in the hidden layer 1 is 120 because we have 11 features in input neurons and with 10 layers so (11*10=110)+bias of each neurons hideen layer\n",
    "2.5*10+5(bias)=55\n",
    "3.5+1(bias)=6"
   ],
   "metadata": {
    "collapsed": false
   },
   "id": "863a2086b790640a"
  },
  {
   "cell_type": "markdown",
   "source": [
    "# Compailing the model (Define loss function and optimiser)"
   ],
   "metadata": {
    "collapsed": false
   },
   "id": "87fce201e51c50c3"
  },
  {
   "cell_type": "code",
   "execution_count": 77,
   "outputs": [],
   "source": [
    "# compiling the model\n",
    "\n",
    "# loss as binary_crossentropy, since we have binary classification problem\n",
    "# defining the optimizer as adam\n",
    "# Evaluation metric as accuracy\n",
    "\n",
    "model.compile(loss='binary_crossentropy',optimizer='Adam',metrics=['accuracy'])"
   ],
   "metadata": {
    "collapsed": false,
    "ExecuteTime": {
     "end_time": "2023-11-10T23:38:39.339243Z",
     "start_time": "2023-11-10T23:38:39.142201Z"
    }
   },
   "id": "1d40814fcc25d177"
  },
  {
   "cell_type": "markdown",
   "source": [
    "# Trainig the model"
   ],
   "metadata": {
    "collapsed": false
   },
   "id": "fd0ca28ccf26d869"
  },
  {
   "cell_type": "code",
   "execution_count": 78,
   "outputs": [
    {
     "name": "stdout",
     "output_type": "stream",
     "text": [
      "Epoch 1/50\n",
      "16/16 [==============================] - 1s 19ms/step - loss: 0.6848 - accuracy: 0.5580 - val_loss: 0.6720 - val_accuracy: 0.6423\n",
      "Epoch 2/50\n",
      "16/16 [==============================] - 0s 6ms/step - loss: 0.6598 - accuracy: 0.6578 - val_loss: 0.6513 - val_accuracy: 0.6667\n",
      "Epoch 3/50\n",
      "16/16 [==============================] - 0s 6ms/step - loss: 0.6421 - accuracy: 0.6823 - val_loss: 0.6397 - val_accuracy: 0.6667\n",
      "Epoch 4/50\n",
      "16/16 [==============================] - 0s 6ms/step - loss: 0.6289 - accuracy: 0.6884 - val_loss: 0.6279 - val_accuracy: 0.6911\n",
      "Epoch 5/50\n",
      "16/16 [==============================] - 0s 6ms/step - loss: 0.6165 - accuracy: 0.6904 - val_loss: 0.6170 - val_accuracy: 0.6911\n",
      "Epoch 6/50\n",
      "16/16 [==============================] - 0s 6ms/step - loss: 0.6051 - accuracy: 0.6864 - val_loss: 0.6069 - val_accuracy: 0.6911\n",
      "Epoch 7/50\n",
      "16/16 [==============================] - 0s 6ms/step - loss: 0.5943 - accuracy: 0.6864 - val_loss: 0.5999 - val_accuracy: 0.6911\n",
      "Epoch 8/50\n",
      "16/16 [==============================] - 0s 6ms/step - loss: 0.5871 - accuracy: 0.6864 - val_loss: 0.5929 - val_accuracy: 0.6911\n",
      "Epoch 9/50\n",
      "16/16 [==============================] - 0s 5ms/step - loss: 0.5801 - accuracy: 0.6864 - val_loss: 0.5882 - val_accuracy: 0.6911\n",
      "Epoch 10/50\n",
      "16/16 [==============================] - 0s 5ms/step - loss: 0.5760 - accuracy: 0.6864 - val_loss: 0.5847 - val_accuracy: 0.6911\n",
      "Epoch 11/50\n",
      "16/16 [==============================] - 0s 6ms/step - loss: 0.5723 - accuracy: 0.6864 - val_loss: 0.5824 - val_accuracy: 0.6911\n",
      "Epoch 12/50\n",
      "16/16 [==============================] - 0s 6ms/step - loss: 0.5695 - accuracy: 0.6864 - val_loss: 0.5804 - val_accuracy: 0.6911\n",
      "Epoch 13/50\n",
      "16/16 [==============================] - 0s 6ms/step - loss: 0.5663 - accuracy: 0.6884 - val_loss: 0.5782 - val_accuracy: 0.6911\n",
      "Epoch 14/50\n",
      "16/16 [==============================] - 0s 6ms/step - loss: 0.5636 - accuracy: 0.6904 - val_loss: 0.5757 - val_accuracy: 0.6911\n",
      "Epoch 15/50\n",
      "16/16 [==============================] - 0s 7ms/step - loss: 0.5604 - accuracy: 0.6904 - val_loss: 0.5733 - val_accuracy: 0.6992\n",
      "Epoch 16/50\n",
      "16/16 [==============================] - 0s 6ms/step - loss: 0.5570 - accuracy: 0.6965 - val_loss: 0.5703 - val_accuracy: 0.6992\n",
      "Epoch 17/50\n",
      "16/16 [==============================] - 0s 6ms/step - loss: 0.5538 - accuracy: 0.7108 - val_loss: 0.5673 - val_accuracy: 0.6992\n",
      "Epoch 18/50\n",
      "16/16 [==============================] - 0s 6ms/step - loss: 0.5497 - accuracy: 0.7189 - val_loss: 0.5637 - val_accuracy: 0.7154\n",
      "Epoch 19/50\n",
      "16/16 [==============================] - 0s 5ms/step - loss: 0.5455 - accuracy: 0.7434 - val_loss: 0.5592 - val_accuracy: 0.7236\n",
      "Epoch 20/50\n",
      "16/16 [==============================] - 0s 6ms/step - loss: 0.5398 - accuracy: 0.7515 - val_loss: 0.5541 - val_accuracy: 0.7236\n",
      "Epoch 21/50\n",
      "16/16 [==============================] - 0s 5ms/step - loss: 0.5334 - accuracy: 0.7597 - val_loss: 0.5480 - val_accuracy: 0.7317\n",
      "Epoch 22/50\n",
      "16/16 [==============================] - 0s 6ms/step - loss: 0.5272 - accuracy: 0.7637 - val_loss: 0.5424 - val_accuracy: 0.7398\n",
      "Epoch 23/50\n",
      "16/16 [==============================] - 0s 6ms/step - loss: 0.5220 - accuracy: 0.7780 - val_loss: 0.5359 - val_accuracy: 0.7480\n",
      "Epoch 24/50\n",
      "16/16 [==============================] - 0s 6ms/step - loss: 0.5164 - accuracy: 0.7984 - val_loss: 0.5313 - val_accuracy: 0.7642\n",
      "Epoch 25/50\n",
      "16/16 [==============================] - 0s 5ms/step - loss: 0.5118 - accuracy: 0.8106 - val_loss: 0.5283 - val_accuracy: 0.8130\n",
      "Epoch 26/50\n",
      "16/16 [==============================] - 0s 5ms/step - loss: 0.5060 - accuracy: 0.8126 - val_loss: 0.5246 - val_accuracy: 0.8130\n",
      "Epoch 27/50\n",
      "16/16 [==============================] - 0s 5ms/step - loss: 0.5016 - accuracy: 0.8126 - val_loss: 0.5209 - val_accuracy: 0.8130\n",
      "Epoch 28/50\n",
      "16/16 [==============================] - 0s 5ms/step - loss: 0.4979 - accuracy: 0.8106 - val_loss: 0.5164 - val_accuracy: 0.8130\n",
      "Epoch 29/50\n",
      "16/16 [==============================] - 0s 6ms/step - loss: 0.4935 - accuracy: 0.8106 - val_loss: 0.5135 - val_accuracy: 0.8130\n",
      "Epoch 30/50\n",
      "16/16 [==============================] - 0s 6ms/step - loss: 0.4897 - accuracy: 0.8106 - val_loss: 0.5097 - val_accuracy: 0.8130\n",
      "Epoch 31/50\n",
      "16/16 [==============================] - 0s 6ms/step - loss: 0.4869 - accuracy: 0.8126 - val_loss: 0.5082 - val_accuracy: 0.8130\n",
      "Epoch 32/50\n",
      "16/16 [==============================] - 0s 5ms/step - loss: 0.4830 - accuracy: 0.8106 - val_loss: 0.5040 - val_accuracy: 0.8130\n",
      "Epoch 33/50\n",
      "16/16 [==============================] - 0s 6ms/step - loss: 0.4799 - accuracy: 0.8106 - val_loss: 0.5021 - val_accuracy: 0.8130\n",
      "Epoch 34/50\n",
      "16/16 [==============================] - 0s 5ms/step - loss: 0.4771 - accuracy: 0.8106 - val_loss: 0.4991 - val_accuracy: 0.8130\n",
      "Epoch 35/50\n",
      "16/16 [==============================] - 0s 5ms/step - loss: 0.4753 - accuracy: 0.8106 - val_loss: 0.4969 - val_accuracy: 0.8130\n",
      "Epoch 36/50\n",
      "16/16 [==============================] - 0s 6ms/step - loss: 0.4722 - accuracy: 0.8106 - val_loss: 0.4954 - val_accuracy: 0.8130\n",
      "Epoch 37/50\n",
      "16/16 [==============================] - 0s 5ms/step - loss: 0.4708 - accuracy: 0.8106 - val_loss: 0.4939 - val_accuracy: 0.8211\n",
      "Epoch 38/50\n",
      "16/16 [==============================] - 0s 5ms/step - loss: 0.4693 - accuracy: 0.8106 - val_loss: 0.4906 - val_accuracy: 0.8211\n",
      "Epoch 39/50\n",
      "16/16 [==============================] - 0s 5ms/step - loss: 0.4688 - accuracy: 0.8106 - val_loss: 0.4937 - val_accuracy: 0.8211\n",
      "Epoch 40/50\n",
      "16/16 [==============================] - 0s 6ms/step - loss: 0.4670 - accuracy: 0.8086 - val_loss: 0.4894 - val_accuracy: 0.8130\n",
      "Epoch 41/50\n",
      "16/16 [==============================] - 0s 6ms/step - loss: 0.4664 - accuracy: 0.8106 - val_loss: 0.4883 - val_accuracy: 0.8211\n",
      "Epoch 42/50\n",
      "16/16 [==============================] - 0s 5ms/step - loss: 0.4645 - accuracy: 0.8106 - val_loss: 0.4869 - val_accuracy: 0.8130\n",
      "Epoch 43/50\n",
      "16/16 [==============================] - 0s 6ms/step - loss: 0.4626 - accuracy: 0.8106 - val_loss: 0.4868 - val_accuracy: 0.8130\n",
      "Epoch 44/50\n",
      "16/16 [==============================] - 0s 6ms/step - loss: 0.4666 - accuracy: 0.8065 - val_loss: 0.4914 - val_accuracy: 0.8211\n",
      "Epoch 45/50\n",
      "16/16 [==============================] - 0s 5ms/step - loss: 0.4627 - accuracy: 0.8086 - val_loss: 0.4860 - val_accuracy: 0.8130\n",
      "Epoch 46/50\n",
      "16/16 [==============================] - 0s 6ms/step - loss: 0.4596 - accuracy: 0.8106 - val_loss: 0.4870 - val_accuracy: 0.8211\n",
      "Epoch 47/50\n",
      "16/16 [==============================] - 0s 5ms/step - loss: 0.4591 - accuracy: 0.8106 - val_loss: 0.4864 - val_accuracy: 0.8211\n",
      "Epoch 48/50\n",
      "16/16 [==============================] - 0s 6ms/step - loss: 0.4590 - accuracy: 0.8106 - val_loss: 0.4859 - val_accuracy: 0.8130\n",
      "Epoch 49/50\n",
      "16/16 [==============================] - 0s 6ms/step - loss: 0.4591 - accuracy: 0.8106 - val_loss: 0.4858 - val_accuracy: 0.8130\n",
      "Epoch 50/50\n",
      "16/16 [==============================] - 0s 6ms/step - loss: 0.4570 - accuracy: 0.8086 - val_loss: 0.4862 - val_accuracy: 0.8211\n"
     ]
    }
   ],
   "source": [
    "# training the model\n",
    "\n",
    "# passing the independent and dependent features for training set for training the model\n",
    "\n",
    "# validation data will be evaluated at the end of each epoch\n",
    "\n",
    "# setting the epochs as 50\n",
    "\n",
    "# storing the trained model in model_history variable which will be used to visualize the training process\n",
    "\n",
    "model_history = model.fit(X_train, y_train, validation_data=(X_test, y_test), epochs=50)"
   ],
   "metadata": {
    "collapsed": false,
    "ExecuteTime": {
     "end_time": "2023-11-10T23:38:44.419850600Z",
     "start_time": "2023-11-10T23:38:39.159201500Z"
    }
   },
   "id": "8f58dff1f752953a"
  },
  {
   "cell_type": "markdown",
   "source": [
    "## Evaluating the performance"
   ],
   "metadata": {
    "collapsed": false
   },
   "id": "b91cbcad0b88319f"
  },
  {
   "cell_type": "code",
   "execution_count": 102,
   "outputs": [
    {
     "name": "stdout",
     "output_type": "stream",
     "text": [
      "4/4 [==============================] - 0s 2ms/step\n"
     ]
    }
   ],
   "source": [
    "# getting predictions for the validation set\n",
    "prediction = model.predict(X_test)\n"
   ],
   "metadata": {
    "collapsed": false,
    "ExecuteTime": {
     "end_time": "2023-11-10T23:45:19.344504700Z",
     "start_time": "2023-11-10T23:45:19.278986800Z"
    }
   },
   "id": "597571b803eff143"
  },
  {
   "cell_type": "code",
   "execution_count": 108,
   "outputs": [
    {
     "data": {
      "text/plain": "0.8211382113821138"
     },
     "execution_count": 108,
     "metadata": {},
     "output_type": "execute_result"
    }
   ],
   "source": [
    "accuracy_score(y_test, np.round(abs(prediction)))"
   ],
   "metadata": {
    "collapsed": false,
    "ExecuteTime": {
     "end_time": "2023-11-10T23:47:12.965725100Z",
     "start_time": "2023-11-10T23:47:12.921707700Z"
    }
   },
   "id": "1b20e527553e8dba"
  },
  {
   "cell_type": "markdown",
   "source": [
    "## Visualizing the model"
   ],
   "metadata": {
    "collapsed": false
   },
   "id": "6b77a0d3ffaf2c76"
  },
  {
   "cell_type": "code",
   "execution_count": 119,
   "outputs": [
    {
     "data": {
      "text/plain": "<Figure size 640x480 with 1 Axes>",
      "image/png": "[encoded data removed]"
     },
     "metadata": {},
     "output_type": "display_data"
    }
   ],
   "source": [
    "#summarise the history\n",
    "plt.plot(model_history.history['loss'])\n",
    "plt.plot(model_history.history['val_loss'])\n",
    "plt.title('model loss')\n",
    "plt.xlabel('Epoch')\n",
    "plt.ylabel('loss')\n",
    "plt.legend(['train','validation'],loc='upper right')\n",
    "plt.show()"
   ],
   "metadata": {
    "collapsed": false,
    "ExecuteTime": {
     "end_time": "2023-11-10T23:53:10.120850600Z",
     "start_time": "2023-11-10T23:53:09.986191800Z"
    }
   },
   "id": "53fc6517359c9c"
  },
  {
   "cell_type": "code",
   "execution_count": 118,
   "outputs": [
    {
     "data": {
      "text/plain": "<Figure size 640x480 with 1 Axes>",
      "image/png": "[encoded data removed]"
     },
     "metadata": {},
     "output_type": "display_data"
    }
   ],
   "source": [
    "#summarise the history\n",
    "plt.plot(model_history.history['accuracy'])\n",
    "plt.plot(model_history.history['val_accuracy'])\n",
    "plt.title('model accuracy')\n",
    "plt.xlabel('Epoch')\n",
    "plt.ylabel('accuracy')\n",
    "plt.legend(['train','validation'],loc='upper left')\n",
    "plt.show()"
   ],
   "metadata": {
    "collapsed": false,
    "ExecuteTime": {
     "end_time": "2023-11-10T23:52:53.377818500Z",
     "start_time": "2023-11-10T23:52:53.251060300Z"
    }
   },
   "id": "ddf42686b8596219"
  },
  {
   "cell_type": "code",
   "execution_count": null,
   "outputs": [],
   "source": [],
   "metadata": {
    "collapsed": false
   },
   "id": "7b725c1828ccf75a"
  }
 ],
 "metadata": {
  "kernelspec": {
   "display_name": "Python 3",
   "language": "python",
   "name": "python3"
  },
  "language_info": {
   "codemirror_mode": {
    "name": "ipython",
    "version": 2
   },
   "file_extension": ".py",
   "mimetype": "text/x-python",
   "name": "python",
   "nbconvert_exporter": "python",
   "pygments_lexer": "ipython2",
   "version": "2.7.6"
  }
 },
 "nbformat": 4,
 "nbformat_minor": 5
}
